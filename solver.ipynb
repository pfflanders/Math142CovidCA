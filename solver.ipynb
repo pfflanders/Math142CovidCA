{
 "cells": [
  {
   "cell_type": "code",
   "execution_count": 1,
   "metadata": {},
   "outputs": [],
   "source": [
    "# import sympy"
   ]
  },
  {
   "cell_type": "code",
   "execution_count": 2,
   "metadata": {},
   "outputs": [
    {
     "data": {
      "text/latex": [
       "$\\displaystyle \\left\\{\\left( 0, \\  0\\right), \\left( 0, \\  \\frac{1}{3}\\right)\\right\\}$"
      ],
      "text/plain": [
       "{(0, 0), (0, 1/3)}"
      ]
     },
     "execution_count": 2,
     "metadata": {},
     "output_type": "execute_result"
    }
   ],
   "source": [
    "# demo of sympy\n",
    "from sympy.core.symbol import symbols\n",
    "from sympy.solvers.solveset import nonlinsolve\n",
    "x, y = symbols('x, y', real=True)\n",
    "nonlinsolve([4*x, 2*x*y - 6*y**2 + 2*y], [x, y])"
   ]
  },
  {
   "cell_type": "code",
   "execution_count": 3,
   "metadata": {},
   "outputs": [
    {
     "data": {
      "text/latex": [
       "$\\displaystyle \\left\\{\\left( 0, \\  0, \\  0, \\  d\\right), \\left( 0, \\  a, \\  r, \\  - r\\right), \\left( 0, \\  i, \\  0, \\  0\\right), \\left( s, \\  0, \\  0, \\  d\\right)\\right\\}$"
      ],
      "text/plain": [
       "{(0, 0, 0, d), (0, a, r, -r), (0, i, 0, 0), (s, 0, 0, d)}"
      ]
     },
     "execution_count": 3,
     "metadata": {},
     "output_type": "execute_result"
    }
   ],
   "source": [
    "# first im ignoring death rate and combining the two infection rates\n",
    "s, i, r, d = symbols('s, i, r, d', real=True)\n",
    "b, N, a = symbols('b, N, a', real=True)\n",
    "nonlinsolve([(-b*s*i)/N, (b*s*i)/N - r*i - d*i, r*i - a*r, ], [s, i, r, d])"
   ]
  },
  {
   "cell_type": "code",
   "execution_count": null,
   "metadata": {},
   "outputs": [],
   "source": []
  }
 ],
 "metadata": {
  "interpreter": {
   "hash": "09fd4e92952461b818d7109f3279ac37d5741aaafd7813e0800e6d7198f72d2f"
  },
  "kernelspec": {
   "display_name": "Python 3.7.11 64-bit ('diffeqs': conda)",
   "name": "python3"
  },
  "language_info": {
   "codemirror_mode": {
    "name": "ipython",
    "version": 3
   },
   "file_extension": ".py",
   "mimetype": "text/x-python",
   "name": "python",
   "nbconvert_exporter": "python",
   "pygments_lexer": "ipython3",
   "version": "3.7.11"
  },
  "orig_nbformat": 4
 },
 "nbformat": 4,
 "nbformat_minor": 2
}
