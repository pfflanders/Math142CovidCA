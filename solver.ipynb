{
 "cells": [
  {
   "cell_type": "markdown",
   "metadata": {},
   "source": [
    "## Things to do\n",
    " 1. More complicated model needs to be implemented (this is the biggest, try modifying the above code for reference)\n",
    " 2. Model needs to be tuned to match data more closely\n",
    " 3. (2) might be easier done once we have a more complicated model?\n",
    " \n",
    "## Less Important Things\n",
    " 4. You could write some analysis of what we are doing to help others reading the notebook\n",
    " 5. Graphs could look nicer (using plotly or seaborn or just nicer colors)"
   ]
  },
  {
   "cell_type": "code",
   "execution_count": null,
   "metadata": {},
   "outputs": [],
   "source": [
    "# import sympy"
   ]
  },
  {
   "cell_type": "code",
   "execution_count": 3,
   "metadata": {},
   "outputs": [
    {
     "data": {
      "text/latex": [
       "$\\displaystyle \\left\\{\\left( 0, \\  0\\right), \\left( 0, \\  \\frac{1}{3}\\right)\\right\\}$"
      ],
      "text/plain": [
       "FiniteSet((0, 0), (0, 1/3))"
      ]
     },
     "execution_count": 3,
     "metadata": {},
     "output_type": "execute_result"
    }
   ],
   "source": [
    "# demo of sympy\n",
    "from sympy.core.symbol import symbols\n",
    "from sympy.solvers.solveset import nonlinsolve\n",
    "x, y = symbols('x, y', real=True)\n",
    "nonlinsolve([4*x, 2*x*y - 6*y**2 + 2*y], [x, y])"
   ]
  },
  {
   "cell_type": "code",
   "execution_count": 4,
   "metadata": {},
   "outputs": [
    {
     "data": {
      "text/latex": [
       "$\\displaystyle \\left\\{\\left( s, \\  0, \\  0, \\  d\\right)\\right\\}$"
      ],
      "text/plain": [
       "FiniteSet((s, 0, 0, d))"
      ]
     },
     "execution_count": 4,
     "metadata": {},
     "output_type": "execute_result"
    }
   ],
   "source": [
    "# first im ignoring death rate and combining the two infection rates\n",
    "# suseptible, infected, recovered, and dead\n",
    "s, i, r, d = symbols('s, i, r, d', real=True)\n",
    "# b is infection rate\n",
    "# N is total population\n",
    "# a (alpha) is rate recovered population turns suseptible again\n",
    "# d1 is the death rate of infected indivual\n",
    "b, N, a, d1 = symbols('b, N, a, d1', real=True)\n",
    "nonlinsolve([(-b*s*i)/N, (b*s*i)/N - r*i - d1*i, r*i - a*r, d1*i], [s, i, r, d])"
   ]
  },
  {
   "cell_type": "code",
   "execution_count": null,
   "metadata": {},
   "outputs": [],
   "source": []
  },
  {
   "cell_type": "code",
   "execution_count": null,
   "metadata": {},
   "outputs": [],
   "source": []
  },
  {
   "cell_type": "code",
   "execution_count": null,
   "metadata": {},
   "outputs": [],
   "source": []
  },
  {
   "cell_type": "code",
   "execution_count": 5,
   "metadata": {},
   "outputs": [],
   "source": [
    "from scipy.integrate import solve_ivp\n",
    "import numpy as np\n",
    "import matplotlib.pyplot as plt\n",
    "import pandas as pd"
   ]
  },
  {
   "cell_type": "code",
   "execution_count": 6,
   "metadata": {},
   "outputs": [],
   "source": [
    "agency_df = pd.read_csv(\"https://raw.githubusercontent.com/pfflanders/california-coronavirus-data/master/latimes-state-totals.csv\", parse_dates=[\"date\"])\n",
    "agency_df[\"date\"] = pd.to_datetime(agency_df[\"date\"])"
   ]
  },
  {
   "cell_type": "code",
   "execution_count": 7,
   "metadata": {},
   "outputs": [],
   "source": [
    "new_df = agency_df[agency_df[\"date\"]>=\"2021-03-01\"]\n",
    "df = new_df.sort_values(by=\"date\", ignore_index=True)"
   ]
  },
  {
   "cell_type": "code",
   "execution_count": 8,
   "metadata": {},
   "outputs": [
    {
     "ename": "NameError",
     "evalue": "name 't' is not defined",
     "output_type": "error",
     "traceback": [
      "\u001b[1;31m---------------------------------------------------------------------------\u001b[0m",
      "\u001b[1;31mNameError\u001b[0m                                 Traceback (most recent call last)",
      "\u001b[1;32m<ipython-input-8-ba4cc34046ca>\u001b[0m in \u001b[0;36m<module>\u001b[1;34m\u001b[0m\n\u001b[1;32m----> 1\u001b[1;33m \u001b[0mplt\u001b[0m\u001b[1;33m.\u001b[0m\u001b[0mplot\u001b[0m\u001b[1;33m(\u001b[0m\u001b[0mt\u001b[0m\u001b[1;33m,\u001b[0m \u001b[0mz\u001b[0m\u001b[1;33m[\u001b[0m\u001b[1;36m4\u001b[0m\u001b[1;33m]\u001b[0m\u001b[1;33m.\u001b[0m\u001b[0mT\u001b[0m\u001b[1;33m)\u001b[0m\u001b[1;33m\u001b[0m\u001b[1;33m\u001b[0m\u001b[0m\n\u001b[0m\u001b[0;32m      2\u001b[0m \u001b[0mplt\u001b[0m\u001b[1;33m.\u001b[0m\u001b[0mscatter\u001b[0m\u001b[1;33m(\u001b[0m\u001b[0magency_df\u001b[0m\u001b[1;33m[\u001b[0m\u001b[1;34m'date'\u001b[0m\u001b[1;33m]\u001b[0m\u001b[1;33m.\u001b[0m\u001b[0mapply\u001b[0m\u001b[1;33m(\u001b[0m\u001b[1;32mlambda\u001b[0m \u001b[0mx\u001b[0m\u001b[1;33m:\u001b[0m \u001b[0mx\u001b[0m\u001b[1;33m.\u001b[0m\u001b[0mvalue\u001b[0m\u001b[1;33m/\u001b[0m\u001b[1;36m10\u001b[0m\u001b[1;33m**\u001b[0m\u001b[1;36m9\u001b[0m\u001b[1;33m/\u001b[0m\u001b[1;36m60\u001b[0m\u001b[1;33m/\u001b[0m\u001b[1;36m60\u001b[0m\u001b[1;33m/\u001b[0m\u001b[1;36m24\u001b[0m \u001b[1;33m-\u001b[0m \u001b[1;36m18287.0\u001b[0m\u001b[1;33m)\u001b[0m\u001b[1;33m,\u001b[0m \u001b[0magency_df\u001b[0m\u001b[1;33m[\u001b[0m\u001b[1;34m\"deaths\"\u001b[0m\u001b[1;33m]\u001b[0m\u001b[1;33m)\u001b[0m\u001b[1;33m\u001b[0m\u001b[1;33m\u001b[0m\u001b[0m\n\u001b[0;32m      3\u001b[0m \u001b[0mplt\u001b[0m\u001b[1;33m.\u001b[0m\u001b[0mxlabel\u001b[0m\u001b[1;33m(\u001b[0m\u001b[1;34m't'\u001b[0m\u001b[1;33m)\u001b[0m\u001b[1;33m\u001b[0m\u001b[1;33m\u001b[0m\u001b[0m\n\u001b[0;32m      4\u001b[0m \u001b[0mplt\u001b[0m\u001b[1;33m.\u001b[0m\u001b[0mlegend\u001b[0m\u001b[1;33m(\u001b[0m\u001b[1;33m[\u001b[0m\u001b[1;34m'd'\u001b[0m\u001b[1;33m]\u001b[0m\u001b[1;33m,\u001b[0m \u001b[0mshadow\u001b[0m\u001b[1;33m=\u001b[0m\u001b[1;32mTrue\u001b[0m\u001b[1;33m)\u001b[0m\u001b[1;33m\u001b[0m\u001b[1;33m\u001b[0m\u001b[0m\n\u001b[0;32m      5\u001b[0m \u001b[1;31m#plt.yscale('log')\u001b[0m\u001b[1;33m\u001b[0m\u001b[1;33m\u001b[0m\u001b[1;33m\u001b[0m\u001b[0m\n",
      "\u001b[1;31mNameError\u001b[0m: name 't' is not defined"
     ]
    }
   ],
   "source": [
    "plt.plot(t, z[4].T)\n",
    "plt.scatter(agency_df['date'].apply(lambda x: x.value/10**9/60/60/24 - 18287.0), agency_df[\"deaths\"])\n",
    "plt.xlabel('t')\n",
    "plt.legend(['d'], shadow=True)\n",
    "#plt.yscale('log')\n",
    "plt.title('S-I-R-S-D Infection Model')\n",
    "plt.show()\n"
   ]
  },
  {
   "cell_type": "code",
   "execution_count": 9,
   "metadata": {},
   "outputs": [],
   "source": [
    "def simple_sirsd(t, z, N, b, d1, r1, a):\n",
    "    \"\"\"\n",
    "    t: time step\n",
    "    z: Tuple of ints: (s, i, r, d) \n",
    "    b: approximate rate of covid transmission\n",
    "    N: total population of sim\n",
    "    a: rate of recovered -> suseptible\n",
    "    d1: death rate of infected individuals\n",
    "    \n",
    "    \"\"\"\n",
    "    s, i, r, d = z\n",
    "    return [\n",
    "        (-b*s*i)/N + a*r,         # ds/dt\n",
    "        ( b*s*i)/N - r1*i - d1*i, # di/dt\n",
    "        r1*i - a*r,               # dr/dt\n",
    "        d1*i                      # d(dead)/dt\n",
    "    ]"
   ]
  },
  {
   "cell_type": "code",
   "execution_count": null,
   "metadata": {},
   "outputs": [],
   "source": [
    "def plot_simple_model(N, b, d1, r1, a, steps, real_data=None, log=False):\n",
    "    \"\"\"\n",
    "    Given parameters, plots the corresponding model\n",
    "    N, b, d1, r1, a: model params\n",
    "    steps: number of days\n",
    "    log: should it plotted on a logarithmic scale\n",
    "    \"\"\"\n",
    "    sol = solve_ivp(fun=simple_sirsd, \n",
    "                    t_span=[0, steps],\n",
    "                    y0=[N-100, 1000, 0, 0],\n",
    "                    args=(N, b, d1, r1, a),\n",
    "                    dense_output=True)\n",
    "    t = np.linspace(0, steps, steps)\n",
    "    z = sol.sol(t)\n",
    "    plt.plot(t, z.T)\n",
    "\n",
    "    plt.xlabel('t')\n",
    "    plt.legend(['s', 'i', 'r', 'd'], shadow=True)\n",
    "    if log:\n",
    "        plt.yscale('log')\n",
    "    if real_data is not None:\n",
    "        plt.scatter(real_data['date'].apply(lambda x: x.value/10**9/60/60/24 - 18287.0), real_data[\"deaths\"])\n",
    "    plt.title('S-I-R-S-D Infection Model')\n",
    "    plt.show()"
   ]
  },
  {
   "cell_type": "code",
   "execution_count": null,
   "metadata": {},
   "outputs": [],
   "source": [
    "N = 40000000 # population of california\n",
    "\n",
    "b = 0.05 # terrible approximation of rate of covid transmission. \n",
    "d1 = 0.0001 # approx death rate of covid\n",
    "r1 = 0.02 # rate of infected population recovering\n",
    "a = 0.02 # rate of recovered -> suseptible\n",
    "\n",
    "steps = 584 # days since start of covid (according to our data)\n",
    "\n",
    "plot_simple_model(N, b, d1, r1, a, steps, real_data=agency_df, log=True)"
   ]
  },
  {
   "cell_type": "code",
   "execution_count": 50,
   "metadata": {},
   "outputs": [],
   "source": [
    "def sirsd(t, z, b1, b2, d1, r1, a):\n",
    "    \"\"\"\n",
    "    t: time step\n",
    "    z: Tuple of ints: (s, i, r, d) \n",
    "    b: approximate rate of covid transmission\n",
    "    N: total population of sim\n",
    "    a: rate of recovered -> suseptible\n",
    "    d1: death rate of infected individuals\n",
    "    \n",
    "    \"\"\"\n",
    "    N = 40000000\n",
    "    s1, s2, i, r, d = z\n",
    "    return [\n",
    "        (-b1*s1*i)/N + a*r + 0.001*t,              # ds1/dt\n",
    "        (-b2*s2*i)/N - 0.001*t,                    # ds2/dt\n",
    "        (b1*s1*i)/N + (b2*s2*i)/N - r1*i - d1*i,   # di/dt\n",
    "        r1*i - a*r,                                # dr/dt\n",
    "        d1*i                                       # d(dead)/dt\n",
    "    ]"
   ]
  },
  {
   "cell_type": "code",
   "execution_count": 51,
   "metadata": {},
   "outputs": [
    {
     "data": {
      "image/png": "[encoded data removed]",
      "text/plain": [
       "<Figure size 432x288 with 1 Axes>"
      ]
     },
     "metadata": {
      "needs_background": "light"
     },
     "output_type": "display_data"
    }
   ],
   "source": [
    "N = 40000000 # population of california\n",
    "\n",
    "b1 = 0.01 # vaccinated approximation of rate of covid transmission. \n",
    "b2 = 0.05 # terrible approximation of rate of covid transmission. \n",
    "d1 = 0.0001 # approx death rate of covid\n",
    "r1 = 0.01 # rate of infected population recovering\n",
    "a = 0.01 # rate of recovered -> suseptible\n",
    "\n",
    "steps = 586 # days since start of covid (according to our data)\n",
    "\n",
    "sol = solve_ivp(fun=sirsd, \n",
    "                t_span=[0, steps],\n",
    "                y0=[0, N-100, 1000, 0, 0],\n",
    "                args=(b1, b2, d1, r1, a),\n",
    "                dense_output=True)\n",
    "\n",
    "t = np.linspace(0, steps, steps)\n",
    "z = sol.sol(t)\n",
    "plt.plot(t, z.T)\n",
    "\n",
    "plt.xlabel('t')\n",
    "plt.legend(['Immunized', 'UnImmunized', 'Infected', 'Recovered (temp)', 'Dead'], shadow=True)\n",
    "plt.title('S-I-R-S-D Infection Model')\n",
    "plt.show()\n"
   ]
  },
  {
   "cell_type": "code",
   "execution_count": null,
   "metadata": {},
   "outputs": [],
   "source": []
  },
  {
   "cell_type": "code",
   "execution_count": 17,
   "metadata": {},
   "outputs": [],
   "source": [
    "from math import sqrt\n",
    "deaths_data = np.array(agency_df[\"deaths\"].sort_values())\n"
   ]
  },
  {
   "cell_type": "code",
   "execution_count": 83,
   "metadata": {},
   "outputs": [],
   "source": [
    "def compute_z(initial_vars, steps):\n",
    "    #print(\"begin computing z\")\n",
    "    sol = solve_ivp(fun=sirsd, \n",
    "                    t_span=[0, steps],\n",
    "                    y0=[0, N-100, 1000, 0, 0],\n",
    "                    args=initial_vars,\n",
    "                    dense_output=True)\n",
    "\n",
    "    t = np.linspace(0, steps, steps)\n",
    "    z = sol.sol(t)\n",
    "    #print(\"end computing z\")\n",
    "    return z"
   ]
  },
  {
   "cell_type": "code",
   "execution_count": 84,
   "metadata": {},
   "outputs": [],
   "source": [
    "def mse(initial_vars):\n",
    "    #print(\"begin mse\")\n",
    "    #print(initial_vars)\n",
    "    if any(x < 0 for x in initial_vars):\n",
    "        return 100000000\n",
    "    steps = 584 # days since start of covid (according to our data)\n",
    "    z = compute_z(initial_vars, steps)\n",
    "    mean_sqaure_error = 0\n",
    "    for i in range(len(z[4])):\n",
    "        mean_sqaure_error += (z[4][i] - deaths_data[i])**2\n",
    "    #print(\"end mse\")\n",
    "    return sqrt(mean_sqaure_error)"
   ]
  },
  {
   "cell_type": "code",
   "execution_count": 85,
   "metadata": {},
   "outputs": [],
   "source": [
    "Nfeval = 0\n",
    "def callbackF(Xi):\n",
    "    global Nfeval\n",
    "    print('{0:4d}   {1: 3.6f}   {2: 3.6f}   {3: 3.6f}   {4: 3.6f}'.format(Nfeval, Xi[0], Xi[1], Xi[2], Xi[3], Xi[4], mse(Xi)))\n",
    "    Nfeval += 1"
   ]
  },
  {
   "cell_type": "code",
   "execution_count": 81,
   "metadata": {},
   "outputs": [],
   "source": [
    "def constraint(vars):\n",
    "    return all(x > 0.01 for x in vars)\n"
   ]
  },
  {
   "cell_type": "code",
   "execution_count": 86,
   "metadata": {},
   "outputs": [
    {
     "name": "stdout",
     "output_type": "stream",
     "text": [
      "Iter    X1          X2          X3         f(X)     \n",
      "   0    0.010000    0.050000    0.000017    0.010001\n",
      "   1    0.010006    0.050018    0.000016    0.009932\n",
      "   2    0.008098    0.055538    0.000016    0.011005\n",
      "   3    0.001083    0.052808    0.000016    0.009358\n",
      "   4    0.000538    0.052753    0.000016    0.009330\n",
      "Warning: Desired error not necessarily achieved due to precision loss.\n",
      "         Current function value: 125241.297125\n",
      "         Iterations: 5\n",
      "         Function evaluations: 417\n",
      "         Gradient evaluations: 68\n"
     ]
    },
    {
     "data": {
      "text/plain": [
       "      fun: 125241.29712489131\n",
       " hess_inv: array([[ 1.39612916e-06,  3.35283674e-07,  7.81247748e-12,\n",
       "         1.96839734e-07, -3.48010559e-07],\n",
       "       [ 3.35283702e-07,  8.11415434e-08,  1.95158934e-12,\n",
       "         4.74443514e-08, -8.33779363e-08],\n",
       "       [ 7.81248828e-12,  1.95159205e-12,  8.61133904e-17,\n",
       "         1.14001522e-12, -1.93192690e-12],\n",
       "       [ 1.96839745e-07,  4.74443502e-08,  1.14001373e-12,\n",
       "         2.78359064e-08, -4.86867984e-08],\n",
       "       [-3.48010352e-07, -8.33778797e-08, -1.93192435e-12,\n",
       "        -4.86867674e-08,  9.13364863e-08]])\n",
       "      jac: array([-1.98409419e+05,  4.36932909e+06,  4.49764454e+09, -5.75509145e+06,\n",
       "       -1.71828770e+04])\n",
       "  message: 'Desired error not necessarily achieved due to precision loss.'\n",
       "     nfev: 417\n",
       "      nit: 5\n",
       "     njev: 68\n",
       "   status: 2\n",
       "  success: False\n",
       "        x: array([5.37800647e-04, 5.27532071e-02, 1.61146461e-05, 9.33000517e-03,\n",
       "       5.48062486e-03])"
      ]
     },
     "execution_count": 86,
     "metadata": {},
     "output_type": "execute_result"
    }
   ],
   "source": [
    "from scipy.optimize import minimize\n",
    "N = 40000000 # population of california\n",
    "\n",
    "b1 = 0.01 # vaccinated approximation of rate of covid transmission. \n",
    "b2 = 0.05 # terrible approximation of rate of covid transmission. \n",
    "d1 = 0.0001 # approx death rate of covid\n",
    "r1 = 0.01 # rate of infected population recovering\n",
    "a = 0.01 # rate of recovered -> suseptible\n",
    "\n",
    "print('{0:4s}   {1:9s}   {2:9s}   {3:9s}   {4:9s}'.format('Iter', ' X1', ' X2', ' X3', 'f(X)')   )\n",
    "\n",
    "initial_vars = (b1, b2, d1, r1, a)\n",
    "z_ = minimize(mse, \n",
    "              initial_vars, \n",
    "              callback=callbackF, \n",
    "              options={\"maxiter\":200, \"disp\":True},\n",
    "              #constraints={'type': 'ineq', 'fun': lambda x: x > 0}\n",
    "             )\n",
    "z_"
   ]
  },
  {
   "cell_type": "code",
   "execution_count": 87,
   "metadata": {},
   "outputs": [
    {
     "data": {
      "text/plain": [
       "array([5.37800647e-04, 5.27532071e-02, 1.61146461e-05, 9.33000517e-03,\n",
       "       5.48062486e-03])"
      ]
     },
     "execution_count": 87,
     "metadata": {},
     "output_type": "execute_result"
    }
   ],
   "source": [
    "z_.x"
   ]
  },
  {
   "cell_type": "code",
   "execution_count": 88,
   "metadata": {},
   "outputs": [
    {
     "data": {
      "image/png": "[encoded data removed]",
      "text/plain": [
       "<Figure size 432x288 with 1 Axes>"
      ]
     },
     "metadata": {
      "needs_background": "light"
     },
     "output_type": "display_data"
    }
   ],
   "source": [
    "sol = solve_ivp(fun=sirsd, \n",
    "                t_span=[0, steps],\n",
    "                y0=[0, N-100, 1000, 0, 0],\n",
    "                args=z_.x,\n",
    "                dense_output=True)\n",
    "\n",
    "t = np.linspace(0, steps, steps)\n",
    "z = sol.sol(t)\n",
    "plt.plot(t, z.T)\n",
    "\n",
    "plt.xlabel('t')\n",
    "plt.legend(['Immunized', 'UnImmunized', 'Infected', 'Recovered (temp)', 'Dead'], shadow=True)\n",
    "plt.title('S-I-R-S-D Infection Model')\n",
    "plt.show()"
   ]
  },
  {
   "cell_type": "code",
   "execution_count": null,
   "metadata": {},
   "outputs": [],
   "source": []
  }
 ],
 "metadata": {
  "interpreter": {
   "hash": "09fd4e92952461b818d7109f3279ac37d5741aaafd7813e0800e6d7198f72d2f"
  },
  "kernelspec": {
   "display_name": "Python 3",
   "language": "python",
   "name": "python3"
  },
  "language_info": {
   "codemirror_mode": {
    "name": "ipython",
    "version": 3
   },
   "file_extension": ".py",
   "mimetype": "text/x-python",
   "name": "python",
   "nbconvert_exporter": "python",
   "pygments_lexer": "ipython3",
   "version": "3.8.8"
  }
 },
 "nbformat": 4,
 "nbformat_minor": 2
}
