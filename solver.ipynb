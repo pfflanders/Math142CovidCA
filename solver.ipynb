{
 "cells": [
  {
   "cell_type": "code",
   "execution_count": null,
   "metadata": {},
   "outputs": [],
   "source": [
    "# import sympy"
   ]
  },
  {
   "cell_type": "code",
   "execution_count": null,
   "metadata": {},
   "outputs": [],
   "source": [
    "# demo of sympy\n",
    "from sympy.core.symbol import symbols\n",
    "from sympy.solvers.solveset import nonlinsolve\n",
    "x, y = symbols('x, y', real=True)\n",
    "nonlinsolve([4*x, 2*x*y - 6*y**2 + 2*y], [x, y])"
   ]
  },
  {
   "cell_type": "code",
   "execution_count": null,
   "metadata": {},
   "outputs": [],
   "source": [
    "# first im ignoring death rate and combining the two infection rates\n",
    "# suseptible, infected, recovered, and dead\n",
    "s, i, r, d = symbols('s, i, r, d', real=True)\n",
    "# b is infection rate\n",
    "# N is total population\n",
    "# a (alpha) is rate recovered population turns suseptible again\n",
    "# d1 is the death rate of infected indivual\n",
    "b, N, a, d1 = symbols('b, N, a, d1', real=True)\n",
    "nonlinsolve([(-b*s*i)/N, (b*s*i)/N - r*i - d1*i, r*i - a*r, d1*i], [s, i, r, d])"
   ]
  },
  {
   "cell_type": "code",
   "execution_count": null,
   "metadata": {},
   "outputs": [],
   "source": []
  },
  {
   "cell_type": "code",
   "execution_count": null,
   "metadata": {},
   "outputs": [],
   "source": []
  },
  {
   "cell_type": "code",
   "execution_count": null,
   "metadata": {},
   "outputs": [],
   "source": []
  },
  {
   "cell_type": "code",
   "execution_count": 89,
   "metadata": {},
   "outputs": [],
   "source": [
    "from scipy.integrate import solve_ivp\n",
    "import numpy as np\n",
    "import matplotlib.pyplot as plt\n",
    "import pandas as pd"
   ]
  },
  {
   "cell_type": "code",
   "execution_count": 107,
   "metadata": {},
   "outputs": [
    {
     "data": {
      "text/html": [
       "<div>\n",
       "<style scoped>\n",
       "    .dataframe tbody tr th:only-of-type {\n",
       "        vertical-align: middle;\n",
       "    }\n",
       "\n",
       "    .dataframe tbody tr th {\n",
       "        vertical-align: top;\n",
       "    }\n",
       "\n",
       "    .dataframe thead th {\n",
       "        text-align: right;\n",
       "    }\n",
       "</style>\n",
       "<table border=\"1\" class=\"dataframe\">\n",
       "  <thead>\n",
       "    <tr style=\"text-align: right;\">\n",
       "      <th></th>\n",
       "      <th>date</th>\n",
       "      <th>confirmed_cases</th>\n",
       "      <th>deaths</th>\n",
       "      <th>new_confirmed_cases</th>\n",
       "      <th>new_deaths</th>\n",
       "    </tr>\n",
       "  </thead>\n",
       "  <tbody>\n",
       "    <tr>\n",
       "      <th>0</th>\n",
       "      <td>2021-09-02</td>\n",
       "      <td>4363257</td>\n",
       "      <td>65596</td>\n",
       "      <td>11920.0</td>\n",
       "      <td>140.0</td>\n",
       "    </tr>\n",
       "    <tr>\n",
       "      <th>1</th>\n",
       "      <td>2021-09-01</td>\n",
       "      <td>4351337</td>\n",
       "      <td>65456</td>\n",
       "      <td>16692.0</td>\n",
       "      <td>174.0</td>\n",
       "    </tr>\n",
       "    <tr>\n",
       "      <th>2</th>\n",
       "      <td>2021-08-31</td>\n",
       "      <td>4334645</td>\n",
       "      <td>65282</td>\n",
       "      <td>22701.0</td>\n",
       "      <td>77.0</td>\n",
       "    </tr>\n",
       "    <tr>\n",
       "      <th>3</th>\n",
       "      <td>2021-08-30</td>\n",
       "      <td>4311944</td>\n",
       "      <td>65205</td>\n",
       "      <td>21070.0</td>\n",
       "      <td>82.0</td>\n",
       "    </tr>\n",
       "    <tr>\n",
       "      <th>4</th>\n",
       "      <td>2021-08-29</td>\n",
       "      <td>4290874</td>\n",
       "      <td>65123</td>\n",
       "      <td>3620.0</td>\n",
       "      <td>25.0</td>\n",
       "    </tr>\n",
       "  </tbody>\n",
       "</table>\n",
       "</div>"
      ],
      "text/plain": [
       "        date  confirmed_cases  deaths  new_confirmed_cases  new_deaths\n",
       "0 2021-09-02          4363257   65596              11920.0       140.0\n",
       "1 2021-09-01          4351337   65456              16692.0       174.0\n",
       "2 2021-08-31          4334645   65282              22701.0        77.0\n",
       "3 2021-08-30          4311944   65205              21070.0        82.0\n",
       "4 2021-08-29          4290874   65123               3620.0        25.0"
      ]
     },
     "execution_count": 107,
     "metadata": {},
     "output_type": "execute_result"
    }
   ],
   "source": [
    "agency_df = pd.read_csv(\"https://raw.githubusercontent.com/pfflanders/california-coronavirus-data/master/latimes-state-totals.csv\", parse_dates=[\"date\"])\n",
    "agency_df.head()"
   ]
  },
  {
   "cell_type": "code",
   "execution_count": 212,
   "metadata": {},
   "outputs": [],
   "source": [
    "N = 40000000 # population of california\n",
    "\n",
    "b = 0.05 # terrible approximation of rate of covid transmission. \n",
    "d1 = 0.0001 # approx death rate of covid\n",
    "r1 = 0.03 # rate of infected population recovering\n",
    "a = 0.03 # rate of recovered -> suseptible\n",
    "\n",
    "steps = 586 # days since start of covid"
   ]
  },
  {
   "cell_type": "code",
   "execution_count": 213,
   "metadata": {},
   "outputs": [],
   "source": [
    "def sirs(t, z, N, b, d1, r1, a):\n",
    "    \"\"\"\n",
    "    t: time step\n",
    "    z: Tuple of ints: (s, i, r, d) \n",
    "    b: approximate rate of covid transmission\n",
    "    N: total population of sim\n",
    "    a: rate of recovered -> suseptible\n",
    "    d1: death rate of infected individuals\n",
    "    \n",
    "    \"\"\"\n",
    "    s, i, r, d = z\n",
    "    return [\n",
    "        (-b*s*i)/N + a*r,        # ds/dt\n",
    "        ( b*s*i)/N - r1*i - d1*i, # di/dt\n",
    "        r1*i - a*r,               # dr/dt\n",
    "        d1*i                     # d(dead)/dt\n",
    "    ]"
   ]
  },
  {
   "cell_type": "code",
   "execution_count": 214,
   "metadata": {},
   "outputs": [],
   "source": [
    "sol = solve_ivp(fun=sirs, \n",
    "                t_span=[0, steps],\n",
    "                y0=[N-100, 1000, 0, 0],\n",
    "                args=(N, b, d1, r1, a),\n",
    "                dense_output=True)"
   ]
  },
  {
   "cell_type": "code",
   "execution_count": 215,
   "metadata": {},
   "outputs": [],
   "source": [
    "t = np.linspace(0, steps, steps)\n"
   ]
  },
  {
   "cell_type": "code",
   "execution_count": 216,
   "metadata": {},
   "outputs": [],
   "source": [
    "z = sol.sol(t)\n"
   ]
  },
  {
   "cell_type": "code",
   "execution_count": 217,
   "metadata": {},
   "outputs": [
    {
     "data": {
      "image/png": "[encoded data removed]",
      "text/plain": [
       "<Figure size 432x288 with 1 Axes>"
      ]
     },
     "metadata": {
      "needs_background": "light"
     },
     "output_type": "display_data"
    }
   ],
   "source": [
    "plt.plot(t, z.T)\n",
    "\n",
    "plt.xlabel('t')\n",
    "plt.legend(['s', 'i', 'r', 'd'], shadow=True)\n",
    "#plt.yscale('log')\n",
    "plt.title('S-I-R-S-D Infection Model')\n",
    "plt.show()"
   ]
  },
  {
   "cell_type": "code",
   "execution_count": 218,
   "metadata": {},
   "outputs": [
    {
     "data": {
      "image/png": "[encoded data removed]",
      "text/plain": [
       "<Figure size 432x288 with 1 Axes>"
      ]
     },
     "metadata": {
      "needs_background": "light"
     },
     "output_type": "display_data"
    }
   ],
   "source": [
    "plt.plot(t, z[3].T)\n",
    "plt.scatter(agency_df['date'].apply(lambda x: x.value/10**9/60/60/24 - 18287.0), agency_df[\"deaths\"])\n",
    "plt.xlabel('t')\n",
    "plt.legend(['d'], shadow=True)\n",
    "#plt.yscale('log')\n",
    "plt.title('S-I-R-S-D Infection Model')\n",
    "plt.show()\n"
   ]
  },
  {
   "cell_type": "code",
   "execution_count": null,
   "metadata": {},
   "outputs": [],
   "source": []
  },
  {
   "cell_type": "code",
   "execution_count": 179,
   "metadata": {},
   "outputs": [
    {
     "data": {
      "text/plain": [
       "0      585.0\n",
       "1      584.0\n",
       "2      583.0\n",
       "3      582.0\n",
       "4      581.0\n",
       "       ...  \n",
       "581      4.0\n",
       "582      3.0\n",
       "583      2.0\n",
       "584      1.0\n",
       "585      0.0\n",
       "Name: date, Length: 586, dtype: float64"
      ]
     },
     "execution_count": 179,
     "metadata": {},
     "output_type": "execute_result"
    }
   ],
   "source": []
  },
  {
   "cell_type": "code",
   "execution_count": null,
   "metadata": {},
   "outputs": [],
   "source": []
  }
 ],
 "metadata": {
  "interpreter": {
   "hash": "09fd4e92952461b818d7109f3279ac37d5741aaafd7813e0800e6d7198f72d2f"
  },
  "kernelspec": {
   "display_name": "Python 3",
   "language": "python",
   "name": "python3"
  },
  "language_info": {
   "codemirror_mode": {
    "name": "ipython",
    "version": 3
   },
   "file_extension": ".py",
   "mimetype": "text/x-python",
   "name": "python",
   "nbconvert_exporter": "python",
   "pygments_lexer": "ipython3",
   "version": "3.8.8"
  }
 },
 "nbformat": 4,
 "nbformat_minor": 2
}
